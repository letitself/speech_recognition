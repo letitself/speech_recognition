{
  "nbformat": 4,
  "nbformat_minor": 0,
  "metadata": {
    "colab": {
      "name": "errors.ipynb\"",
      "provenance": []
    },
    "kernelspec": {
      "name": "python3",
      "display_name": "Python 3"
    },
    "language_info": {
      "name": "python"
    }
  },
  "cells": [
    {
      "cell_type": "code",
      "source": [
        "def get_word_from_position(value, pos): #value - input string, pos-number of position\n",
        "  starts = [0]\n",
        "  ends = [len(value)]\n",
        "\n",
        "  if value[pos] == ' ':\n",
        "    return '_'\n",
        "  else:\n",
        "    for v in range(len(value)):\n",
        "      if value[v] == ' ' and v < pos:\n",
        "        starts.append(v)\n",
        "      elif value[v] == ' ' and v > pos:\n",
        "        ends.append(v)\n",
        "    return value[max(starts):min(ends)]"
      ],
      "metadata": {
        "id": "bpKLZ6JAxy5h"
      },
      "execution_count": 3,
      "outputs": []
    },
    {
      "cell_type": "code",
      "source": [
        "!pip install Levenshtein\n",
        "import Levenshtein\n",
        "import copy\n",
        "from collections import Counter\n",
        "import string as s\n",
        "import re"
      ],
      "metadata": {
        "colab": {
          "base_uri": "https://localhost:8080/"
        },
        "id": "4yygL03NgMzH",
        "outputId": "3ada4090-823e-497d-8f62-bbeba942156f"
      },
      "execution_count": 4,
      "outputs": [
        {
          "output_type": "stream",
          "name": "stdout",
          "text": [
            "Looking in indexes: https://pypi.org/simple, https://us-python.pkg.dev/colab-wheels/public/simple/\n",
            "Requirement already satisfied: Levenshtein in /usr/local/lib/python3.7/dist-packages (0.18.1)\n",
            "Requirement already satisfied: rapidfuzz<3.0.0,>=2.0.1 in /usr/local/lib/python3.7/dist-packages (from Levenshtein) (2.0.11)\n",
            "Requirement already satisfied: jarowinkler<1.1.0,>=1.0.2 in /usr/local/lib/python3.7/dist-packages (from rapidfuzz<3.0.0,>=2.0.1->Levenshtein) (1.0.2)\n"
          ]
        }
      ]
    },
    {
      "cell_type": "code",
      "source": [
        "import pandas as pd"
      ],
      "metadata": {
        "id": "Oa1s_Uespb9B"
      },
      "execution_count": 5,
      "outputs": []
    },
    {
      "cell_type": "code",
      "source": [
        "from google.colab import drive\n",
        "drive.mount('/content/drive')"
      ],
      "metadata": {
        "colab": {
          "base_uri": "https://localhost:8080/"
        },
        "id": "HSFbRxL5af61",
        "outputId": "dc0f6556-8006-4feb-8e91-56cfb6e208cf"
      },
      "execution_count": 6,
      "outputs": [
        {
          "output_type": "stream",
          "name": "stdout",
          "text": [
            "Drive already mounted at /content/drive; to attempt to forcibly remount, call drive.mount(\"/content/drive\", force_remount=True).\n"
          ]
        }
      ]
    },
    {
      "cell_type": "code",
      "source": [
        "my_data = pd.read_csv('/content/drive/MyDrive/term_paper/bd_final.csv')\n",
        "my_data.tail()"
      ],
      "metadata": {
        "colab": {
          "base_uri": "https://localhost:8080/",
          "height": 320
        },
        "id": "xsYKNFs7agkf",
        "outputId": "2d11d9da-fdd2-4bfe-f890-4130e657c14d"
      },
      "execution_count": null,
      "outputs": [
        {
          "output_type": "execute_result",
          "data": {
            "text/plain": [
              "              filename                                      transcription  \\\n",
              "6812  ffc60718b65e.wav  я больше никогда не возвращалась в этот город ...   \n",
              "6813  ffde0df9359d.wav          он не играет он болен тогда коварный план   \n",
              "6814  ffef913e2053.wav            это потепление что в целом неконрректно   \n",
              "6815  fff6102ea9d2.wav                это мемо изентернети канотасканныет   \n",
              "6816  fffe73e4cb75.wav                        смотрите друг другу в глаза   \n",
              "\n",
              "                                                   text       wer       cer  \\\n",
              "6812  я больше никогда не возвращалась в этот город ...  0.153846  0.027027   \n",
              "6813        он не играет он болен и тогда коварный план  0.111111  0.046512   \n",
              "6814             это потепление что в целом некорректно  0.166667  0.026316   \n",
              "6815                это мемы из интернетика натасканные  0.800000  0.200000   \n",
              "6816                        смотрите друг другу в глаза  0.000000  0.000000   \n",
              "\n",
              "                                              alignment  \n",
              "6812  я больше никогда не возвращалась в этот город ...  \n",
              "6813  он не играет он болен и тогда коварный план ||...  \n",
              "6814  это потепление что в целом неко-рректно ||| эт...  \n",
              "6815  это мемы из интернети-ка натасканные- ||| это ...  \n",
              "6816  смотрите друг другу в глаза ||| смотрите друг ...  "
            ],
            "text/html": [
              "\n",
              "  <div id=\"df-bfb5ef25-1019-4c7c-a552-915d8a3c0b00\">\n",
              "    <div class=\"colab-df-container\">\n",
              "      <div>\n",
              "<style scoped>\n",
              "    .dataframe tbody tr th:only-of-type {\n",
              "        vertical-align: middle;\n",
              "    }\n",
              "\n",
              "    .dataframe tbody tr th {\n",
              "        vertical-align: top;\n",
              "    }\n",
              "\n",
              "    .dataframe thead th {\n",
              "        text-align: right;\n",
              "    }\n",
              "</style>\n",
              "<table border=\"1\" class=\"dataframe\">\n",
              "  <thead>\n",
              "    <tr style=\"text-align: right;\">\n",
              "      <th></th>\n",
              "      <th>filename</th>\n",
              "      <th>transcription</th>\n",
              "      <th>text</th>\n",
              "      <th>wer</th>\n",
              "      <th>cer</th>\n",
              "      <th>alignment</th>\n",
              "    </tr>\n",
              "  </thead>\n",
              "  <tbody>\n",
              "    <tr>\n",
              "      <th>6812</th>\n",
              "      <td>ffc60718b65e.wav</td>\n",
              "      <td>я больше никогда не возвращалась в этот город ...</td>\n",
              "      <td>я больше никогда не возвращалась в этот город ...</td>\n",
              "      <td>0.153846</td>\n",
              "      <td>0.027027</td>\n",
              "      <td>я больше никогда не возвращалась в этот город ...</td>\n",
              "    </tr>\n",
              "    <tr>\n",
              "      <th>6813</th>\n",
              "      <td>ffde0df9359d.wav</td>\n",
              "      <td>он не играет он болен тогда коварный план</td>\n",
              "      <td>он не играет он болен и тогда коварный план</td>\n",
              "      <td>0.111111</td>\n",
              "      <td>0.046512</td>\n",
              "      <td>он не играет он болен и тогда коварный план ||...</td>\n",
              "    </tr>\n",
              "    <tr>\n",
              "      <th>6814</th>\n",
              "      <td>ffef913e2053.wav</td>\n",
              "      <td>это потепление что в целом неконрректно</td>\n",
              "      <td>это потепление что в целом некорректно</td>\n",
              "      <td>0.166667</td>\n",
              "      <td>0.026316</td>\n",
              "      <td>это потепление что в целом неко-рректно ||| эт...</td>\n",
              "    </tr>\n",
              "    <tr>\n",
              "      <th>6815</th>\n",
              "      <td>fff6102ea9d2.wav</td>\n",
              "      <td>это мемо изентернети канотасканныет</td>\n",
              "      <td>это мемы из интернетика натасканные</td>\n",
              "      <td>0.800000</td>\n",
              "      <td>0.200000</td>\n",
              "      <td>это мемы из интернети-ка натасканные- ||| это ...</td>\n",
              "    </tr>\n",
              "    <tr>\n",
              "      <th>6816</th>\n",
              "      <td>fffe73e4cb75.wav</td>\n",
              "      <td>смотрите друг другу в глаза</td>\n",
              "      <td>смотрите друг другу в глаза</td>\n",
              "      <td>0.000000</td>\n",
              "      <td>0.000000</td>\n",
              "      <td>смотрите друг другу в глаза ||| смотрите друг ...</td>\n",
              "    </tr>\n",
              "  </tbody>\n",
              "</table>\n",
              "</div>\n",
              "      <button class=\"colab-df-convert\" onclick=\"convertToInteractive('df-bfb5ef25-1019-4c7c-a552-915d8a3c0b00')\"\n",
              "              title=\"Convert this dataframe to an interactive table.\"\n",
              "              style=\"display:none;\">\n",
              "        \n",
              "  <svg xmlns=\"http://www.w3.org/2000/svg\" height=\"24px\"viewBox=\"0 0 24 24\"\n",
              "       width=\"24px\">\n",
              "    <path d=\"M0 0h24v24H0V0z\" fill=\"none\"/>\n",
              "    <path d=\"M18.56 5.44l.94 2.06.94-2.06 2.06-.94-2.06-.94-.94-2.06-.94 2.06-2.06.94zm-11 1L8.5 8.5l.94-2.06 2.06-.94-2.06-.94L8.5 2.5l-.94 2.06-2.06.94zm10 10l.94 2.06.94-2.06 2.06-.94-2.06-.94-.94-2.06-.94 2.06-2.06.94z\"/><path d=\"M17.41 7.96l-1.37-1.37c-.4-.4-.92-.59-1.43-.59-.52 0-1.04.2-1.43.59L10.3 9.45l-7.72 7.72c-.78.78-.78 2.05 0 2.83L4 21.41c.39.39.9.59 1.41.59.51 0 1.02-.2 1.41-.59l7.78-7.78 2.81-2.81c.8-.78.8-2.07 0-2.86zM5.41 20L4 18.59l7.72-7.72 1.47 1.35L5.41 20z\"/>\n",
              "  </svg>\n",
              "      </button>\n",
              "      \n",
              "  <style>\n",
              "    .colab-df-container {\n",
              "      display:flex;\n",
              "      flex-wrap:wrap;\n",
              "      gap: 12px;\n",
              "    }\n",
              "\n",
              "    .colab-df-convert {\n",
              "      background-color: #E8F0FE;\n",
              "      border: none;\n",
              "      border-radius: 50%;\n",
              "      cursor: pointer;\n",
              "      display: none;\n",
              "      fill: #1967D2;\n",
              "      height: 32px;\n",
              "      padding: 0 0 0 0;\n",
              "      width: 32px;\n",
              "    }\n",
              "\n",
              "    .colab-df-convert:hover {\n",
              "      background-color: #E2EBFA;\n",
              "      box-shadow: 0px 1px 2px rgba(60, 64, 67, 0.3), 0px 1px 3px 1px rgba(60, 64, 67, 0.15);\n",
              "      fill: #174EA6;\n",
              "    }\n",
              "\n",
              "    [theme=dark] .colab-df-convert {\n",
              "      background-color: #3B4455;\n",
              "      fill: #D2E3FC;\n",
              "    }\n",
              "\n",
              "    [theme=dark] .colab-df-convert:hover {\n",
              "      background-color: #434B5C;\n",
              "      box-shadow: 0px 1px 3px 1px rgba(0, 0, 0, 0.15);\n",
              "      filter: drop-shadow(0px 1px 2px rgba(0, 0, 0, 0.3));\n",
              "      fill: #FFFFFF;\n",
              "    }\n",
              "  </style>\n",
              "\n",
              "      <script>\n",
              "        const buttonEl =\n",
              "          document.querySelector('#df-bfb5ef25-1019-4c7c-a552-915d8a3c0b00 button.colab-df-convert');\n",
              "        buttonEl.style.display =\n",
              "          google.colab.kernel.accessAllowed ? 'block' : 'none';\n",
              "\n",
              "        async function convertToInteractive(key) {\n",
              "          const element = document.querySelector('#df-bfb5ef25-1019-4c7c-a552-915d8a3c0b00');\n",
              "          const dataTable =\n",
              "            await google.colab.kernel.invokeFunction('convertToInteractive',\n",
              "                                                     [key], {});\n",
              "          if (!dataTable) return;\n",
              "\n",
              "          const docLinkHtml = 'Like what you see? Visit the ' +\n",
              "            '<a target=\"_blank\" href=https://colab.research.google.com/notebooks/data_table.ipynb>data table notebook</a>'\n",
              "            + ' to learn more about interactive tables.';\n",
              "          element.innerHTML = '';\n",
              "          dataTable['output_type'] = 'display_data';\n",
              "          await google.colab.output.renderOutput(dataTable, element);\n",
              "          const docLink = document.createElement('div');\n",
              "          docLink.innerHTML = docLinkHtml;\n",
              "          element.appendChild(docLink);\n",
              "        }\n",
              "      </script>\n",
              "    </div>\n",
              "  </div>\n",
              "  "
            ]
          },
          "metadata": {},
          "execution_count": 5
        }
      ]
    },
    {
      "cell_type": "code",
      "source": [
        "draw = []\n",
        "lev = []\n",
        "\n",
        "def levencrawling(decoded, true):#decoded - machine transcript, true - true string\n",
        "  \n",
        "  levenshtein = Levenshtein.editops(str(decoded), str(true))\n",
        "  deviation = 0\n",
        "  lev = levenshtein\n",
        "  try:\n",
        "    for elem in lev:\n",
        "      if elem[0] == 'insert':\n",
        "        inst = decoded,true,'Inserted',get_word_from_position(decoded, elem[1]),'>',get_word_from_position(true, elem[2]), decoded[elem[1]],'>', true[elem[2]], len(str(get_word_from_position(true, elem[2]))) #elem2 это элемент правильно строки то есть в выдаче(1 1) первая единица - ошибочный символ вторая - правильный\n",
        "        draw.append(inst)\n",
        "      elif elem[0] == 'delete':\n",
        "        dele = decoded,true,'Deleted',get_word_from_position(decoded, elem[1]),'>',get_word_from_position(true, elem[2]), decoded[elem[1]],'>', true[elem[2]], len(str(get_word_from_position(true, elem[2])))-1\n",
        "        draw.append(dele)\n",
        "      elif elem[0] == 'replace':\n",
        "        repl = decoded,true,'Replaced',get_word_from_position(decoded, elem[1]),'>',get_word_from_position(true, elem[2]), decoded[elem[1]],'>', true[elem[2]], len(str(get_word_from_position(true, elem[2])))-1\n",
        "        draw.append(repl)\n",
        "      else:\n",
        "        pass\n",
        "    return lev\n",
        "  except IndexError:\n",
        "    pass\n",
        "  except TypeError:\n",
        "    pass"
      ],
      "metadata": {
        "id": "QOYi9L1X7Oor"
      },
      "execution_count": null,
      "outputs": []
    },
    {
      "cell_type": "code",
      "source": [
        "\n",
        "for i in range(len(my_data['transcription'])):\n",
        "  levencrawling(my_data['transcription'][i],my_data['text'][i])"
      ],
      "metadata": {
        "id": "6lN-vxzfaldC"
      },
      "execution_count": null,
      "outputs": []
    },
    {
      "cell_type": "code",
      "source": [
        "draw[:10],len(draw)"
      ],
      "metadata": {
        "id": "NAdoSHjI7tt6"
      },
      "execution_count": null,
      "outputs": []
    },
    {
      "cell_type": "code",
      "source": [
        "transcription = []\n",
        "text = []\n",
        "error_type = []\n",
        "error_word = []\n",
        "true_word = []\n",
        "error_letter = []\n",
        "true_letter = []\n",
        "word_length = []\n",
        "for i in draw:\n",
        "  transcription.append(i[0])\n",
        "  text.append(i[1])\n",
        "  error_type.append(i[2])\n",
        "  error_word.append(i[3])\n",
        "  true_word.append(i[5])\n",
        "  error_letter.append(i[6])\n",
        "  true_letter.append(i[8])\n",
        "  word_length.append(i[9])\n"
      ],
      "metadata": {
        "id": "boPej1oshG6r"
      },
      "execution_count": null,
      "outputs": []
    },
    {
      "cell_type": "code",
      "source": [
        "transcription[:10]"
      ],
      "metadata": {
        "colab": {
          "base_uri": "https://localhost:8080/"
        },
        "id": "0UiuHukXjZsf",
        "outputId": "04e78e5d-03f6-47d7-a19f-917037e3cec0"
      },
      "execution_count": null,
      "outputs": [
        {
          "output_type": "execute_result",
          "data": {
            "text/plain": [
              "['но вряд ли кто обменяет этот момент прозрение и озарение на то что',\n",
              " 'но вряд ли кто обменяет этот момент прозрение и озарение на то что',\n",
              " 'но вряд ли кто обменяет этот момент прозрение и озарение на то что',\n",
              " 'но вряд ли кто обменяет этот момент прозрение и озарение на то что',\n",
              " 'но вряд ли кто обменяет этот момент прозрение и озарение на то что',\n",
              " 'но вряд ли кто обменяет этот момент прозрение и озарение на то что',\n",
              " 'пимер в конце зимы начали весны проходит фестеваль извинеции в москву',\n",
              " 'пимер в конце зимы начали весны проходит фестеваль извинеции в москву',\n",
              " 'пимер в конце зимы начали весны проходит фестеваль извинеции в москву',\n",
              " 'пимер в конце зимы начали весны проходит фестеваль извинеции в москву']"
            ]
          },
          "metadata": {},
          "execution_count": 220
        }
      ]
    },
    {
      "cell_type": "code",
      "source": [
        "error_data = {'transcript': ['кторы его таким забавным образом проявляют','тактаки счастливые довольные радуется жизни нечего подобного','но вряд ли кто обменяет этот момент прозрение и озарение на то что', 'пимер в конце зимы начали весны проходит фестеваль извинеции в москву', 'это потепление что в целом неконрректно','поздна ложится спать'], 'true': ['которые таким забавным образом проявляются','такими счастливыми довольными радующимися жизни ничего подобного','но вряд ли кто обменяет этот момент прозрения и озарения на то', 'например в конце зимы начале весны проходит фестиваль из венеции в москву', 'это потепление что в целом некорректно', 'нельзя поздно ложиться спать']}\n",
        "error_data = pd.DataFrame(data=d)\n",
        "error_data"
      ],
      "metadata": {
        "id": "vB_FNuUvjdBF"
      },
      "execution_count": null,
      "outputs": []
    },
    {
      "cell_type": "code",
      "source": [
        "error_data = pd.DataFrame(list(zip(transcription,text,error_type,error_word,true_word,error_letter,true_letter,word_length)), columns = ['transcription','text','error_type','error_word','true_word','error_letter','true_letter','word_length']) \n",
        "error_data\n"
      ],
      "metadata": {
        "colab": {
          "base_uri": "https://localhost:8080/",
          "height": 902
        },
        "id": "XhtxZMmiktAU",
        "outputId": "696bc380-279f-4352-e041-773c90f5a155"
      },
      "execution_count": null,
      "outputs": [
        {
          "output_type": "execute_result",
          "data": {
            "text/plain": [
              "                                           transcription  \\\n",
              "0      но вряд ли кто обменяет этот момент прозрение ...   \n",
              "1      но вряд ли кто обменяет этот момент прозрение ...   \n",
              "2      но вряд ли кто обменяет этот момент прозрение ...   \n",
              "3      но вряд ли кто обменяет этот момент прозрение ...   \n",
              "4      но вряд ли кто обменяет этот момент прозрение ...   \n",
              "...                                                  ...   \n",
              "42296                это мемо изентернети канотасканныет   \n",
              "42297                это мемо изентернети канотасканныет   \n",
              "42298                это мемо изентернети канотасканныет   \n",
              "42299                это мемо изентернети канотасканныет   \n",
              "42300                это мемо изентернети канотасканныет   \n",
              "\n",
              "                                                    text error_type  \\\n",
              "0      но вряд ли кто обменяет этот момент прозрения ...   Replaced   \n",
              "1      но вряд ли кто обменяет этот момент прозрения ...   Replaced   \n",
              "2      но вряд ли кто обменяет этот момент прозрения ...    Deleted   \n",
              "3      но вряд ли кто обменяет этот момент прозрения ...    Deleted   \n",
              "4      но вряд ли кто обменяет этот момент прозрения ...    Deleted   \n",
              "...                                                  ...        ...   \n",
              "42296                это мемы из интернетика натасканные   Inserted   \n",
              "42297                это мемы из интернетика натасканные   Replaced   \n",
              "42298                это мемы из интернетика натасканные    Deleted   \n",
              "42299                это мемы из интернетика натасканные   Inserted   \n",
              "42300                это мемы из интернетика натасканные   Replaced   \n",
              "\n",
              "            error_word     true_word error_letter true_letter  word_length  \n",
              "0            прозрение     прозрения            е           я            9  \n",
              "1             озарение      озарения            е           я            8  \n",
              "2                   то            то            т           т            2  \n",
              "3                   то            то            о           т            2  \n",
              "4                    _            то                        т            2  \n",
              "...                ...           ...          ...         ...          ...  \n",
              "42296      изентернети             _            е                        1  \n",
              "42297      изентернети   интернетика            е           и           11  \n",
              "42298                _   интернетика                        к           11  \n",
              "42299   канотасканныет             _            н                        1  \n",
              "42300   канотасканныет   натасканные            о           а           11  \n",
              "\n",
              "[42301 rows x 8 columns]"
            ],
            "text/html": [
              "\n",
              "  <div id=\"df-18fc6137-ddf2-4c1e-aef1-61f9b2467b23\">\n",
              "    <div class=\"colab-df-container\">\n",
              "      <div>\n",
              "<style scoped>\n",
              "    .dataframe tbody tr th:only-of-type {\n",
              "        vertical-align: middle;\n",
              "    }\n",
              "\n",
              "    .dataframe tbody tr th {\n",
              "        vertical-align: top;\n",
              "    }\n",
              "\n",
              "    .dataframe thead th {\n",
              "        text-align: right;\n",
              "    }\n",
              "</style>\n",
              "<table border=\"1\" class=\"dataframe\">\n",
              "  <thead>\n",
              "    <tr style=\"text-align: right;\">\n",
              "      <th></th>\n",
              "      <th>transcription</th>\n",
              "      <th>text</th>\n",
              "      <th>error_type</th>\n",
              "      <th>error_word</th>\n",
              "      <th>true_word</th>\n",
              "      <th>error_letter</th>\n",
              "      <th>true_letter</th>\n",
              "      <th>word_length</th>\n",
              "    </tr>\n",
              "  </thead>\n",
              "  <tbody>\n",
              "    <tr>\n",
              "      <th>0</th>\n",
              "      <td>но вряд ли кто обменяет этот момент прозрение ...</td>\n",
              "      <td>но вряд ли кто обменяет этот момент прозрения ...</td>\n",
              "      <td>Replaced</td>\n",
              "      <td>прозрение</td>\n",
              "      <td>прозрения</td>\n",
              "      <td>е</td>\n",
              "      <td>я</td>\n",
              "      <td>9</td>\n",
              "    </tr>\n",
              "    <tr>\n",
              "      <th>1</th>\n",
              "      <td>но вряд ли кто обменяет этот момент прозрение ...</td>\n",
              "      <td>но вряд ли кто обменяет этот момент прозрения ...</td>\n",
              "      <td>Replaced</td>\n",
              "      <td>озарение</td>\n",
              "      <td>озарения</td>\n",
              "      <td>е</td>\n",
              "      <td>я</td>\n",
              "      <td>8</td>\n",
              "    </tr>\n",
              "    <tr>\n",
              "      <th>2</th>\n",
              "      <td>но вряд ли кто обменяет этот момент прозрение ...</td>\n",
              "      <td>но вряд ли кто обменяет этот момент прозрения ...</td>\n",
              "      <td>Deleted</td>\n",
              "      <td>то</td>\n",
              "      <td>то</td>\n",
              "      <td>т</td>\n",
              "      <td>т</td>\n",
              "      <td>2</td>\n",
              "    </tr>\n",
              "    <tr>\n",
              "      <th>3</th>\n",
              "      <td>но вряд ли кто обменяет этот момент прозрение ...</td>\n",
              "      <td>но вряд ли кто обменяет этот момент прозрения ...</td>\n",
              "      <td>Deleted</td>\n",
              "      <td>то</td>\n",
              "      <td>то</td>\n",
              "      <td>о</td>\n",
              "      <td>т</td>\n",
              "      <td>2</td>\n",
              "    </tr>\n",
              "    <tr>\n",
              "      <th>4</th>\n",
              "      <td>но вряд ли кто обменяет этот момент прозрение ...</td>\n",
              "      <td>но вряд ли кто обменяет этот момент прозрения ...</td>\n",
              "      <td>Deleted</td>\n",
              "      <td>_</td>\n",
              "      <td>то</td>\n",
              "      <td></td>\n",
              "      <td>т</td>\n",
              "      <td>2</td>\n",
              "    </tr>\n",
              "    <tr>\n",
              "      <th>...</th>\n",
              "      <td>...</td>\n",
              "      <td>...</td>\n",
              "      <td>...</td>\n",
              "      <td>...</td>\n",
              "      <td>...</td>\n",
              "      <td>...</td>\n",
              "      <td>...</td>\n",
              "      <td>...</td>\n",
              "    </tr>\n",
              "    <tr>\n",
              "      <th>42296</th>\n",
              "      <td>это мемо изентернети канотасканныет</td>\n",
              "      <td>это мемы из интернетика натасканные</td>\n",
              "      <td>Inserted</td>\n",
              "      <td>изентернети</td>\n",
              "      <td>_</td>\n",
              "      <td>е</td>\n",
              "      <td></td>\n",
              "      <td>1</td>\n",
              "    </tr>\n",
              "    <tr>\n",
              "      <th>42297</th>\n",
              "      <td>это мемо изентернети канотасканныет</td>\n",
              "      <td>это мемы из интернетика натасканные</td>\n",
              "      <td>Replaced</td>\n",
              "      <td>изентернети</td>\n",
              "      <td>интернетика</td>\n",
              "      <td>е</td>\n",
              "      <td>и</td>\n",
              "      <td>11</td>\n",
              "    </tr>\n",
              "    <tr>\n",
              "      <th>42298</th>\n",
              "      <td>это мемо изентернети канотасканныет</td>\n",
              "      <td>это мемы из интернетика натасканные</td>\n",
              "      <td>Deleted</td>\n",
              "      <td>_</td>\n",
              "      <td>интернетика</td>\n",
              "      <td></td>\n",
              "      <td>к</td>\n",
              "      <td>11</td>\n",
              "    </tr>\n",
              "    <tr>\n",
              "      <th>42299</th>\n",
              "      <td>это мемо изентернети канотасканныет</td>\n",
              "      <td>это мемы из интернетика натасканные</td>\n",
              "      <td>Inserted</td>\n",
              "      <td>канотасканныет</td>\n",
              "      <td>_</td>\n",
              "      <td>н</td>\n",
              "      <td></td>\n",
              "      <td>1</td>\n",
              "    </tr>\n",
              "    <tr>\n",
              "      <th>42300</th>\n",
              "      <td>это мемо изентернети канотасканныет</td>\n",
              "      <td>это мемы из интернетика натасканные</td>\n",
              "      <td>Replaced</td>\n",
              "      <td>канотасканныет</td>\n",
              "      <td>натасканные</td>\n",
              "      <td>о</td>\n",
              "      <td>а</td>\n",
              "      <td>11</td>\n",
              "    </tr>\n",
              "  </tbody>\n",
              "</table>\n",
              "<p>42301 rows × 8 columns</p>\n",
              "</div>\n",
              "      <button class=\"colab-df-convert\" onclick=\"convertToInteractive('df-18fc6137-ddf2-4c1e-aef1-61f9b2467b23')\"\n",
              "              title=\"Convert this dataframe to an interactive table.\"\n",
              "              style=\"display:none;\">\n",
              "        \n",
              "  <svg xmlns=\"http://www.w3.org/2000/svg\" height=\"24px\"viewBox=\"0 0 24 24\"\n",
              "       width=\"24px\">\n",
              "    <path d=\"M0 0h24v24H0V0z\" fill=\"none\"/>\n",
              "    <path d=\"M18.56 5.44l.94 2.06.94-2.06 2.06-.94-2.06-.94-.94-2.06-.94 2.06-2.06.94zm-11 1L8.5 8.5l.94-2.06 2.06-.94-2.06-.94L8.5 2.5l-.94 2.06-2.06.94zm10 10l.94 2.06.94-2.06 2.06-.94-2.06-.94-.94-2.06-.94 2.06-2.06.94z\"/><path d=\"M17.41 7.96l-1.37-1.37c-.4-.4-.92-.59-1.43-.59-.52 0-1.04.2-1.43.59L10.3 9.45l-7.72 7.72c-.78.78-.78 2.05 0 2.83L4 21.41c.39.39.9.59 1.41.59.51 0 1.02-.2 1.41-.59l7.78-7.78 2.81-2.81c.8-.78.8-2.07 0-2.86zM5.41 20L4 18.59l7.72-7.72 1.47 1.35L5.41 20z\"/>\n",
              "  </svg>\n",
              "      </button>\n",
              "      \n",
              "  <style>\n",
              "    .colab-df-container {\n",
              "      display:flex;\n",
              "      flex-wrap:wrap;\n",
              "      gap: 12px;\n",
              "    }\n",
              "\n",
              "    .colab-df-convert {\n",
              "      background-color: #E8F0FE;\n",
              "      border: none;\n",
              "      border-radius: 50%;\n",
              "      cursor: pointer;\n",
              "      display: none;\n",
              "      fill: #1967D2;\n",
              "      height: 32px;\n",
              "      padding: 0 0 0 0;\n",
              "      width: 32px;\n",
              "    }\n",
              "\n",
              "    .colab-df-convert:hover {\n",
              "      background-color: #E2EBFA;\n",
              "      box-shadow: 0px 1px 2px rgba(60, 64, 67, 0.3), 0px 1px 3px 1px rgba(60, 64, 67, 0.15);\n",
              "      fill: #174EA6;\n",
              "    }\n",
              "\n",
              "    [theme=dark] .colab-df-convert {\n",
              "      background-color: #3B4455;\n",
              "      fill: #D2E3FC;\n",
              "    }\n",
              "\n",
              "    [theme=dark] .colab-df-convert:hover {\n",
              "      background-color: #434B5C;\n",
              "      box-shadow: 0px 1px 3px 1px rgba(0, 0, 0, 0.15);\n",
              "      filter: drop-shadow(0px 1px 2px rgba(0, 0, 0, 0.3));\n",
              "      fill: #FFFFFF;\n",
              "    }\n",
              "  </style>\n",
              "\n",
              "      <script>\n",
              "        const buttonEl =\n",
              "          document.querySelector('#df-18fc6137-ddf2-4c1e-aef1-61f9b2467b23 button.colab-df-convert');\n",
              "        buttonEl.style.display =\n",
              "          google.colab.kernel.accessAllowed ? 'block' : 'none';\n",
              "\n",
              "        async function convertToInteractive(key) {\n",
              "          const element = document.querySelector('#df-18fc6137-ddf2-4c1e-aef1-61f9b2467b23');\n",
              "          const dataTable =\n",
              "            await google.colab.kernel.invokeFunction('convertToInteractive',\n",
              "                                                     [key], {});\n",
              "          if (!dataTable) return;\n",
              "\n",
              "          const docLinkHtml = 'Like what you see? Visit the ' +\n",
              "            '<a target=\"_blank\" href=https://colab.research.google.com/notebooks/data_table.ipynb>data table notebook</a>'\n",
              "            + ' to learn more about interactive tables.';\n",
              "          element.innerHTML = '';\n",
              "          dataTable['output_type'] = 'display_data';\n",
              "          await google.colab.output.renderOutput(dataTable, element);\n",
              "          const docLink = document.createElement('div');\n",
              "          docLink.innerHTML = docLinkHtml;\n",
              "          element.appendChild(docLink);\n",
              "        }\n",
              "      </script>\n",
              "    </div>\n",
              "  </div>\n",
              "  "
            ]
          },
          "metadata": {},
          "execution_count": 226
        }
      ]
    },
    {
      "cell_type": "code",
      "source": [
        "error_data.to_csv('/content/drive/MyDrive/term_paper/error_data.csv')"
      ],
      "metadata": {
        "id": "lWe48J6XlVDD"
      },
      "execution_count": null,
      "outputs": []
    },
    {
      "cell_type": "code",
      "source": [
        "error_data = pd.read_csv('/content/drive/MyDrive/term_paper/error_data.csv')\n",
        "error_data.tail()"
      ],
      "metadata": {
        "colab": {
          "base_uri": "https://localhost:8080/",
          "height": 354
        },
        "id": "cxW8KkzqmN5M",
        "outputId": "e394848c-620f-4286-8e7d-54807b096672"
      },
      "execution_count": 7,
      "outputs": [
        {
          "output_type": "execute_result",
          "data": {
            "text/plain": [
              "       Unnamed: 0                        transcription  \\\n",
              "42296       42296  это мемо изентернети канотасканныет   \n",
              "42297       42297  это мемо изентернети канотасканныет   \n",
              "42298       42298  это мемо изентернети канотасканныет   \n",
              "42299       42299  это мемо изентернети канотасканныет   \n",
              "42300       42300  это мемо изентернети канотасканныет   \n",
              "\n",
              "                                      text error_type       error_word  \\\n",
              "42296  это мемы из интернетика натасканные   Inserted      изентернети   \n",
              "42297  это мемы из интернетика натасканные   Replaced      изентернети   \n",
              "42298  это мемы из интернетика натасканные    Deleted                _   \n",
              "42299  это мемы из интернетика натасканные   Inserted   канотасканныет   \n",
              "42300  это мемы из интернетика натасканные   Replaced   канотасканныет   \n",
              "\n",
              "          true_word error_letter true_letter  word_length  \n",
              "42296             _            е                        1  \n",
              "42297   интернетика            е           и           11  \n",
              "42298   интернетика                        к           11  \n",
              "42299             _            н                        1  \n",
              "42300   натасканные            о           а           11  "
            ],
            "text/html": [
              "\n",
              "  <div id=\"df-9187cb26-05e5-4e58-ac06-fb9161c82bd1\">\n",
              "    <div class=\"colab-df-container\">\n",
              "      <div>\n",
              "<style scoped>\n",
              "    .dataframe tbody tr th:only-of-type {\n",
              "        vertical-align: middle;\n",
              "    }\n",
              "\n",
              "    .dataframe tbody tr th {\n",
              "        vertical-align: top;\n",
              "    }\n",
              "\n",
              "    .dataframe thead th {\n",
              "        text-align: right;\n",
              "    }\n",
              "</style>\n",
              "<table border=\"1\" class=\"dataframe\">\n",
              "  <thead>\n",
              "    <tr style=\"text-align: right;\">\n",
              "      <th></th>\n",
              "      <th>Unnamed: 0</th>\n",
              "      <th>transcription</th>\n",
              "      <th>text</th>\n",
              "      <th>error_type</th>\n",
              "      <th>error_word</th>\n",
              "      <th>true_word</th>\n",
              "      <th>error_letter</th>\n",
              "      <th>true_letter</th>\n",
              "      <th>word_length</th>\n",
              "    </tr>\n",
              "  </thead>\n",
              "  <tbody>\n",
              "    <tr>\n",
              "      <th>42296</th>\n",
              "      <td>42296</td>\n",
              "      <td>это мемо изентернети канотасканныет</td>\n",
              "      <td>это мемы из интернетика натасканные</td>\n",
              "      <td>Inserted</td>\n",
              "      <td>изентернети</td>\n",
              "      <td>_</td>\n",
              "      <td>е</td>\n",
              "      <td></td>\n",
              "      <td>1</td>\n",
              "    </tr>\n",
              "    <tr>\n",
              "      <th>42297</th>\n",
              "      <td>42297</td>\n",
              "      <td>это мемо изентернети канотасканныет</td>\n",
              "      <td>это мемы из интернетика натасканные</td>\n",
              "      <td>Replaced</td>\n",
              "      <td>изентернети</td>\n",
              "      <td>интернетика</td>\n",
              "      <td>е</td>\n",
              "      <td>и</td>\n",
              "      <td>11</td>\n",
              "    </tr>\n",
              "    <tr>\n",
              "      <th>42298</th>\n",
              "      <td>42298</td>\n",
              "      <td>это мемо изентернети канотасканныет</td>\n",
              "      <td>это мемы из интернетика натасканные</td>\n",
              "      <td>Deleted</td>\n",
              "      <td>_</td>\n",
              "      <td>интернетика</td>\n",
              "      <td></td>\n",
              "      <td>к</td>\n",
              "      <td>11</td>\n",
              "    </tr>\n",
              "    <tr>\n",
              "      <th>42299</th>\n",
              "      <td>42299</td>\n",
              "      <td>это мемо изентернети канотасканныет</td>\n",
              "      <td>это мемы из интернетика натасканные</td>\n",
              "      <td>Inserted</td>\n",
              "      <td>канотасканныет</td>\n",
              "      <td>_</td>\n",
              "      <td>н</td>\n",
              "      <td></td>\n",
              "      <td>1</td>\n",
              "    </tr>\n",
              "    <tr>\n",
              "      <th>42300</th>\n",
              "      <td>42300</td>\n",
              "      <td>это мемо изентернети канотасканныет</td>\n",
              "      <td>это мемы из интернетика натасканные</td>\n",
              "      <td>Replaced</td>\n",
              "      <td>канотасканныет</td>\n",
              "      <td>натасканные</td>\n",
              "      <td>о</td>\n",
              "      <td>а</td>\n",
              "      <td>11</td>\n",
              "    </tr>\n",
              "  </tbody>\n",
              "</table>\n",
              "</div>\n",
              "      <button class=\"colab-df-convert\" onclick=\"convertToInteractive('df-9187cb26-05e5-4e58-ac06-fb9161c82bd1')\"\n",
              "              title=\"Convert this dataframe to an interactive table.\"\n",
              "              style=\"display:none;\">\n",
              "        \n",
              "  <svg xmlns=\"http://www.w3.org/2000/svg\" height=\"24px\"viewBox=\"0 0 24 24\"\n",
              "       width=\"24px\">\n",
              "    <path d=\"M0 0h24v24H0V0z\" fill=\"none\"/>\n",
              "    <path d=\"M18.56 5.44l.94 2.06.94-2.06 2.06-.94-2.06-.94-.94-2.06-.94 2.06-2.06.94zm-11 1L8.5 8.5l.94-2.06 2.06-.94-2.06-.94L8.5 2.5l-.94 2.06-2.06.94zm10 10l.94 2.06.94-2.06 2.06-.94-2.06-.94-.94-2.06-.94 2.06-2.06.94z\"/><path d=\"M17.41 7.96l-1.37-1.37c-.4-.4-.92-.59-1.43-.59-.52 0-1.04.2-1.43.59L10.3 9.45l-7.72 7.72c-.78.78-.78 2.05 0 2.83L4 21.41c.39.39.9.59 1.41.59.51 0 1.02-.2 1.41-.59l7.78-7.78 2.81-2.81c.8-.78.8-2.07 0-2.86zM5.41 20L4 18.59l7.72-7.72 1.47 1.35L5.41 20z\"/>\n",
              "  </svg>\n",
              "      </button>\n",
              "      \n",
              "  <style>\n",
              "    .colab-df-container {\n",
              "      display:flex;\n",
              "      flex-wrap:wrap;\n",
              "      gap: 12px;\n",
              "    }\n",
              "\n",
              "    .colab-df-convert {\n",
              "      background-color: #E8F0FE;\n",
              "      border: none;\n",
              "      border-radius: 50%;\n",
              "      cursor: pointer;\n",
              "      display: none;\n",
              "      fill: #1967D2;\n",
              "      height: 32px;\n",
              "      padding: 0 0 0 0;\n",
              "      width: 32px;\n",
              "    }\n",
              "\n",
              "    .colab-df-convert:hover {\n",
              "      background-color: #E2EBFA;\n",
              "      box-shadow: 0px 1px 2px rgba(60, 64, 67, 0.3), 0px 1px 3px 1px rgba(60, 64, 67, 0.15);\n",
              "      fill: #174EA6;\n",
              "    }\n",
              "\n",
              "    [theme=dark] .colab-df-convert {\n",
              "      background-color: #3B4455;\n",
              "      fill: #D2E3FC;\n",
              "    }\n",
              "\n",
              "    [theme=dark] .colab-df-convert:hover {\n",
              "      background-color: #434B5C;\n",
              "      box-shadow: 0px 1px 3px 1px rgba(0, 0, 0, 0.15);\n",
              "      filter: drop-shadow(0px 1px 2px rgba(0, 0, 0, 0.3));\n",
              "      fill: #FFFFFF;\n",
              "    }\n",
              "  </style>\n",
              "\n",
              "      <script>\n",
              "        const buttonEl =\n",
              "          document.querySelector('#df-9187cb26-05e5-4e58-ac06-fb9161c82bd1 button.colab-df-convert');\n",
              "        buttonEl.style.display =\n",
              "          google.colab.kernel.accessAllowed ? 'block' : 'none';\n",
              "\n",
              "        async function convertToInteractive(key) {\n",
              "          const element = document.querySelector('#df-9187cb26-05e5-4e58-ac06-fb9161c82bd1');\n",
              "          const dataTable =\n",
              "            await google.colab.kernel.invokeFunction('convertToInteractive',\n",
              "                                                     [key], {});\n",
              "          if (!dataTable) return;\n",
              "\n",
              "          const docLinkHtml = 'Like what you see? Visit the ' +\n",
              "            '<a target=\"_blank\" href=https://colab.research.google.com/notebooks/data_table.ipynb>data table notebook</a>'\n",
              "            + ' to learn more about interactive tables.';\n",
              "          element.innerHTML = '';\n",
              "          dataTable['output_type'] = 'display_data';\n",
              "          await google.colab.output.renderOutput(dataTable, element);\n",
              "          const docLink = document.createElement('div');\n",
              "          docLink.innerHTML = docLinkHtml;\n",
              "          element.appendChild(docLink);\n",
              "        }\n",
              "      </script>\n",
              "    </div>\n",
              "  </div>\n",
              "  "
            ]
          },
          "metadata": {},
          "execution_count": 7
        }
      ]
    },
    {
      "cell_type": "code",
      "source": [
        "error_data.pop('Unnamed: 0')\n",
        "error_data[:10]"
      ],
      "metadata": {
        "colab": {
          "base_uri": "https://localhost:8080/",
          "height": 581
        },
        "id": "7uNT8cuOywAm",
        "outputId": "880270f8-ca81-4db6-a63f-e3569aef0a86"
      },
      "execution_count": 8,
      "outputs": [
        {
          "output_type": "execute_result",
          "data": {
            "text/plain": [
              "                                       transcription  \\\n",
              "0  но вряд ли кто обменяет этот момент прозрение ...   \n",
              "1  но вряд ли кто обменяет этот момент прозрение ...   \n",
              "2  но вряд ли кто обменяет этот момент прозрение ...   \n",
              "3  но вряд ли кто обменяет этот момент прозрение ...   \n",
              "4  но вряд ли кто обменяет этот момент прозрение ...   \n",
              "5  но вряд ли кто обменяет этот момент прозрение ...   \n",
              "6  пимер в конце зимы начали весны проходит фесте...   \n",
              "7  пимер в конце зимы начали весны проходит фесте...   \n",
              "8  пимер в конце зимы начали весны проходит фесте...   \n",
              "9  пимер в конце зимы начали весны проходит фесте...   \n",
              "\n",
              "                                                text error_type  error_word  \\\n",
              "0  но вряд ли кто обменяет этот момент прозрения ...   Replaced   прозрение   \n",
              "1  но вряд ли кто обменяет этот момент прозрения ...   Replaced    озарение   \n",
              "2  но вряд ли кто обменяет этот момент прозрения ...    Deleted          то   \n",
              "3  но вряд ли кто обменяет этот момент прозрения ...    Deleted          то   \n",
              "4  но вряд ли кто обменяет этот момент прозрения ...    Deleted           _   \n",
              "5  но вряд ли кто обменяет этот момент прозрения ...    Deleted         что   \n",
              "6  например в конце зимы начале весны проходит фе...   Inserted       пимер   \n",
              "7  например в конце зимы начале весны проходит фе...   Inserted       пимер   \n",
              "8  например в конце зимы начале весны проходит фе...   Inserted       пимер   \n",
              "9  например в конце зимы начале весны проходит фе...   Replaced      начали   \n",
              "\n",
              "    true_word error_letter true_letter  word_length  \n",
              "0   прозрения            е           я            9  \n",
              "1    озарения            е           я            8  \n",
              "2          то            т           т            2  \n",
              "3          то            о           т            2  \n",
              "4          то                        т            2  \n",
              "5          то            ч           т            2  \n",
              "6    например            п           н            8  \n",
              "7    например            п           а            8  \n",
              "8    например            и           р            8  \n",
              "9      начале            и           е            6  "
            ],
            "text/html": [
              "\n",
              "  <div id=\"df-b2878087-2f1b-45e5-804a-2434d39ce8ea\">\n",
              "    <div class=\"colab-df-container\">\n",
              "      <div>\n",
              "<style scoped>\n",
              "    .dataframe tbody tr th:only-of-type {\n",
              "        vertical-align: middle;\n",
              "    }\n",
              "\n",
              "    .dataframe tbody tr th {\n",
              "        vertical-align: top;\n",
              "    }\n",
              "\n",
              "    .dataframe thead th {\n",
              "        text-align: right;\n",
              "    }\n",
              "</style>\n",
              "<table border=\"1\" class=\"dataframe\">\n",
              "  <thead>\n",
              "    <tr style=\"text-align: right;\">\n",
              "      <th></th>\n",
              "      <th>transcription</th>\n",
              "      <th>text</th>\n",
              "      <th>error_type</th>\n",
              "      <th>error_word</th>\n",
              "      <th>true_word</th>\n",
              "      <th>error_letter</th>\n",
              "      <th>true_letter</th>\n",
              "      <th>word_length</th>\n",
              "    </tr>\n",
              "  </thead>\n",
              "  <tbody>\n",
              "    <tr>\n",
              "      <th>0</th>\n",
              "      <td>но вряд ли кто обменяет этот момент прозрение ...</td>\n",
              "      <td>но вряд ли кто обменяет этот момент прозрения ...</td>\n",
              "      <td>Replaced</td>\n",
              "      <td>прозрение</td>\n",
              "      <td>прозрения</td>\n",
              "      <td>е</td>\n",
              "      <td>я</td>\n",
              "      <td>9</td>\n",
              "    </tr>\n",
              "    <tr>\n",
              "      <th>1</th>\n",
              "      <td>но вряд ли кто обменяет этот момент прозрение ...</td>\n",
              "      <td>но вряд ли кто обменяет этот момент прозрения ...</td>\n",
              "      <td>Replaced</td>\n",
              "      <td>озарение</td>\n",
              "      <td>озарения</td>\n",
              "      <td>е</td>\n",
              "      <td>я</td>\n",
              "      <td>8</td>\n",
              "    </tr>\n",
              "    <tr>\n",
              "      <th>2</th>\n",
              "      <td>но вряд ли кто обменяет этот момент прозрение ...</td>\n",
              "      <td>но вряд ли кто обменяет этот момент прозрения ...</td>\n",
              "      <td>Deleted</td>\n",
              "      <td>то</td>\n",
              "      <td>то</td>\n",
              "      <td>т</td>\n",
              "      <td>т</td>\n",
              "      <td>2</td>\n",
              "    </tr>\n",
              "    <tr>\n",
              "      <th>3</th>\n",
              "      <td>но вряд ли кто обменяет этот момент прозрение ...</td>\n",
              "      <td>но вряд ли кто обменяет этот момент прозрения ...</td>\n",
              "      <td>Deleted</td>\n",
              "      <td>то</td>\n",
              "      <td>то</td>\n",
              "      <td>о</td>\n",
              "      <td>т</td>\n",
              "      <td>2</td>\n",
              "    </tr>\n",
              "    <tr>\n",
              "      <th>4</th>\n",
              "      <td>но вряд ли кто обменяет этот момент прозрение ...</td>\n",
              "      <td>но вряд ли кто обменяет этот момент прозрения ...</td>\n",
              "      <td>Deleted</td>\n",
              "      <td>_</td>\n",
              "      <td>то</td>\n",
              "      <td></td>\n",
              "      <td>т</td>\n",
              "      <td>2</td>\n",
              "    </tr>\n",
              "    <tr>\n",
              "      <th>5</th>\n",
              "      <td>но вряд ли кто обменяет этот момент прозрение ...</td>\n",
              "      <td>но вряд ли кто обменяет этот момент прозрения ...</td>\n",
              "      <td>Deleted</td>\n",
              "      <td>что</td>\n",
              "      <td>то</td>\n",
              "      <td>ч</td>\n",
              "      <td>т</td>\n",
              "      <td>2</td>\n",
              "    </tr>\n",
              "    <tr>\n",
              "      <th>6</th>\n",
              "      <td>пимер в конце зимы начали весны проходит фесте...</td>\n",
              "      <td>например в конце зимы начале весны проходит фе...</td>\n",
              "      <td>Inserted</td>\n",
              "      <td>пимер</td>\n",
              "      <td>например</td>\n",
              "      <td>п</td>\n",
              "      <td>н</td>\n",
              "      <td>8</td>\n",
              "    </tr>\n",
              "    <tr>\n",
              "      <th>7</th>\n",
              "      <td>пимер в конце зимы начали весны проходит фесте...</td>\n",
              "      <td>например в конце зимы начале весны проходит фе...</td>\n",
              "      <td>Inserted</td>\n",
              "      <td>пимер</td>\n",
              "      <td>например</td>\n",
              "      <td>п</td>\n",
              "      <td>а</td>\n",
              "      <td>8</td>\n",
              "    </tr>\n",
              "    <tr>\n",
              "      <th>8</th>\n",
              "      <td>пимер в конце зимы начали весны проходит фесте...</td>\n",
              "      <td>например в конце зимы начале весны проходит фе...</td>\n",
              "      <td>Inserted</td>\n",
              "      <td>пимер</td>\n",
              "      <td>например</td>\n",
              "      <td>и</td>\n",
              "      <td>р</td>\n",
              "      <td>8</td>\n",
              "    </tr>\n",
              "    <tr>\n",
              "      <th>9</th>\n",
              "      <td>пимер в конце зимы начали весны проходит фесте...</td>\n",
              "      <td>например в конце зимы начале весны проходит фе...</td>\n",
              "      <td>Replaced</td>\n",
              "      <td>начали</td>\n",
              "      <td>начале</td>\n",
              "      <td>и</td>\n",
              "      <td>е</td>\n",
              "      <td>6</td>\n",
              "    </tr>\n",
              "  </tbody>\n",
              "</table>\n",
              "</div>\n",
              "      <button class=\"colab-df-convert\" onclick=\"convertToInteractive('df-b2878087-2f1b-45e5-804a-2434d39ce8ea')\"\n",
              "              title=\"Convert this dataframe to an interactive table.\"\n",
              "              style=\"display:none;\">\n",
              "        \n",
              "  <svg xmlns=\"http://www.w3.org/2000/svg\" height=\"24px\"viewBox=\"0 0 24 24\"\n",
              "       width=\"24px\">\n",
              "    <path d=\"M0 0h24v24H0V0z\" fill=\"none\"/>\n",
              "    <path d=\"M18.56 5.44l.94 2.06.94-2.06 2.06-.94-2.06-.94-.94-2.06-.94 2.06-2.06.94zm-11 1L8.5 8.5l.94-2.06 2.06-.94-2.06-.94L8.5 2.5l-.94 2.06-2.06.94zm10 10l.94 2.06.94-2.06 2.06-.94-2.06-.94-.94-2.06-.94 2.06-2.06.94z\"/><path d=\"M17.41 7.96l-1.37-1.37c-.4-.4-.92-.59-1.43-.59-.52 0-1.04.2-1.43.59L10.3 9.45l-7.72 7.72c-.78.78-.78 2.05 0 2.83L4 21.41c.39.39.9.59 1.41.59.51 0 1.02-.2 1.41-.59l7.78-7.78 2.81-2.81c.8-.78.8-2.07 0-2.86zM5.41 20L4 18.59l7.72-7.72 1.47 1.35L5.41 20z\"/>\n",
              "  </svg>\n",
              "      </button>\n",
              "      \n",
              "  <style>\n",
              "    .colab-df-container {\n",
              "      display:flex;\n",
              "      flex-wrap:wrap;\n",
              "      gap: 12px;\n",
              "    }\n",
              "\n",
              "    .colab-df-convert {\n",
              "      background-color: #E8F0FE;\n",
              "      border: none;\n",
              "      border-radius: 50%;\n",
              "      cursor: pointer;\n",
              "      display: none;\n",
              "      fill: #1967D2;\n",
              "      height: 32px;\n",
              "      padding: 0 0 0 0;\n",
              "      width: 32px;\n",
              "    }\n",
              "\n",
              "    .colab-df-convert:hover {\n",
              "      background-color: #E2EBFA;\n",
              "      box-shadow: 0px 1px 2px rgba(60, 64, 67, 0.3), 0px 1px 3px 1px rgba(60, 64, 67, 0.15);\n",
              "      fill: #174EA6;\n",
              "    }\n",
              "\n",
              "    [theme=dark] .colab-df-convert {\n",
              "      background-color: #3B4455;\n",
              "      fill: #D2E3FC;\n",
              "    }\n",
              "\n",
              "    [theme=dark] .colab-df-convert:hover {\n",
              "      background-color: #434B5C;\n",
              "      box-shadow: 0px 1px 3px 1px rgba(0, 0, 0, 0.15);\n",
              "      filter: drop-shadow(0px 1px 2px rgba(0, 0, 0, 0.3));\n",
              "      fill: #FFFFFF;\n",
              "    }\n",
              "  </style>\n",
              "\n",
              "      <script>\n",
              "        const buttonEl =\n",
              "          document.querySelector('#df-b2878087-2f1b-45e5-804a-2434d39ce8ea button.colab-df-convert');\n",
              "        buttonEl.style.display =\n",
              "          google.colab.kernel.accessAllowed ? 'block' : 'none';\n",
              "\n",
              "        async function convertToInteractive(key) {\n",
              "          const element = document.querySelector('#df-b2878087-2f1b-45e5-804a-2434d39ce8ea');\n",
              "          const dataTable =\n",
              "            await google.colab.kernel.invokeFunction('convertToInteractive',\n",
              "                                                     [key], {});\n",
              "          if (!dataTable) return;\n",
              "\n",
              "          const docLinkHtml = 'Like what you see? Visit the ' +\n",
              "            '<a target=\"_blank\" href=https://colab.research.google.com/notebooks/data_table.ipynb>data table notebook</a>'\n",
              "            + ' to learn more about interactive tables.';\n",
              "          element.innerHTML = '';\n",
              "          dataTable['output_type'] = 'display_data';\n",
              "          await google.colab.output.renderOutput(dataTable, element);\n",
              "          const docLink = document.createElement('div');\n",
              "          docLink.innerHTML = docLinkHtml;\n",
              "          element.appendChild(docLink);\n",
              "        }\n",
              "      </script>\n",
              "    </div>\n",
              "  </div>\n",
              "  "
            ]
          },
          "metadata": {},
          "execution_count": 8
        }
      ]
    },
    {
      "cell_type": "code",
      "source": [
        "replaced = error_data.loc[error_data['error_type'] == 'Replaced']\n",
        "deleted = error_data.loc[error_data['error_type'] == 'Deleted']\n",
        "inserted = error_data.loc[error_data['error_type'] == 'Inserted']"
      ],
      "metadata": {
        "id": "SxHtrKdSBYUT"
      },
      "execution_count": 9,
      "outputs": []
    },
    {
      "cell_type": "code",
      "source": [
        "replaced = replaced.dropna(subset=['error_letter', 'true_letter', 'word_length'], how='any')\n",
        "deleted = deleted.dropna(subset=['error_letter', 'true_letter', 'word_length'], how='any')\n",
        "inserted = inserted.dropna(subset=['error_letter', 'true_letter', 'word_length'], how='any')\n",
        "replaced.shape,deleted.shape,inserted.shape"
      ],
      "metadata": {
        "colab": {
          "base_uri": "https://localhost:8080/"
        },
        "id": "wzxlMmRqCUs2",
        "outputId": "34ac890b-539f-4800-e32f-ef0a220f1829"
      },
      "execution_count": 10,
      "outputs": [
        {
          "output_type": "execute_result",
          "data": {
            "text/plain": [
              "((15187, 8), (10177, 8), (16937, 8))"
            ]
          },
          "metadata": {},
          "execution_count": 10
        }
      ]
    },
    {
      "cell_type": "code",
      "source": [
        "from collections import Counter\n",
        "import numpy as np\n",
        "import matplotlib\n",
        "import matplotlib.pyplot as plt\n",
        "from sklearn import datasets\n",
        "import seaborn as sns\n",
        "!pip install squarify\n",
        "import squarify "
      ],
      "metadata": {
        "colab": {
          "base_uri": "https://localhost:8080/"
        },
        "id": "gdiRH1e4QyI_",
        "outputId": "4291cfc2-0c03-4c94-ad5c-3ff4faa5315b"
      },
      "execution_count": 11,
      "outputs": [
        {
          "output_type": "stream",
          "name": "stdout",
          "text": [
            "Looking in indexes: https://pypi.org/simple, https://us-python.pkg.dev/colab-wheels/public/simple/\n",
            "Requirement already satisfied: squarify in /usr/local/lib/python3.7/dist-packages (0.4.3)\n"
          ]
        }
      ]
    },
    {
      "cell_type": "code",
      "source": [
        "sns.displot(error_data['error_type'], binwidth = 1)\n",
        "\n",
        "plt.show()"
      ],
      "metadata": {
        "colab": {
          "base_uri": "https://localhost:8080/",
          "height": 369
        },
        "id": "Hb9mBCWTq1Xq",
        "outputId": "f5612348-b646-48b9-8598-af0fe0376e5e"
      },
      "execution_count": null,
      "outputs": [
        {
          "output_type": "display_data",
          "data": {
            "text/plain": [
              "<Figure size 360x360 with 1 Axes>"
            ],
            "image/png": "[encoded data removed]"
          },
          "metadata": {
            "needs_background": "light"
          }
        }
      ]
    },
    {
      "cell_type": "code",
      "source": [
        "counts = error_data['error_type'].value_counts()\n",
        "explode = (0.01, 0.01, 0.01)\n",
        "colors = ( \"orange\", \"cyan\", \"grey\") \n",
        "counts.plot.pie(autopct='%.1f%%', explode=explode, colors=colors, figsize = (11,11), subplots=True)\n",
        "plt.show()"
      ],
      "metadata": {
        "colab": {
          "base_uri": "https://localhost:8080/",
          "height": 629
        },
        "id": "dRqa75BSEiZB",
        "outputId": "736d7abf-d822-4ef1-f729-4eba1c681768"
      },
      "execution_count": null,
      "outputs": [
        {
          "output_type": "display_data",
          "data": {
            "text/plain": [
              "<Figure size 792x792 with 1 Axes>"
            ],
            "image/png": "[encoded data removed]"
          },
          "metadata": {}
        }
      ]
    },
    {
      "cell_type": "code",
      "source": [
        "#which letter is the most errorable \n",
        "\n",
        "df = error_data.groupby('error_letter').size().reset_index(name='counts')\n",
        "labels = df.apply(lambda x: str(x[0]) + \"\\n (\" + str(x[1]) + \")\", axis=1)\n",
        "sizes = df['counts'].values.tolist()\n",
        "colors = [plt.cm.Spectral(i/float(len(labels))) for i in range(len(labels))]\n",
        "\n",
        "# Draw Plot\n",
        "plt.figure(figsize=(12,8), dpi= 80)\n",
        "squarify.plot(sizes=sizes, label=labels, color=colors, alpha=.8)\n",
        "\n",
        "# Decorate\n",
        "plt.title('Wrong letter')\n",
        "plt.axis('off')\n",
        "plt.show()"
      ],
      "metadata": {
        "colab": {
          "base_uri": "https://localhost:8080/",
          "height": 532
        },
        "id": "2ZtRTvQePtc4",
        "outputId": "78277b41-658b-4748-82af-ef31b2a63e27"
      },
      "execution_count": null,
      "outputs": [
        {
          "output_type": "display_data",
          "data": {
            "text/plain": [
              "<Figure size 960x640 with 1 Axes>"
            ],
            "image/png": "[encoded data removed]"
          },
          "metadata": {
            "needs_background": "light"
          }
        }
      ]
    },
    {
      "cell_type": "code",
      "source": [
        "#which letter is commonly right\n",
        "df = error_data.groupby('true_letter').size().reset_index(name='counts')\n",
        "labels = df.apply(lambda x: str(x[0]) + \"\\n (\" + str(x[1]) + \")\", axis=1)\n",
        "sizes = df['counts'].values.tolist()\n",
        "colors = [plt.cm.Spectral(i/float(len(labels))) for i in range(len(labels))]\n",
        "\n",
        "# Draw Plot\n",
        "plt.figure(figsize=(12,8), dpi= 80)\n",
        "squarify.plot(sizes=sizes, label=labels, color=colors, alpha=.8)\n",
        "\n",
        "# Decorate\n",
        "plt.title('Right letter')\n",
        "plt.axis('off')\n",
        "plt.show()"
      ],
      "metadata": {
        "colab": {
          "base_uri": "https://localhost:8080/",
          "height": 532
        },
        "id": "KapfbgZmbmJP",
        "outputId": "d44fc155-9ed1-4dac-a94f-87d2cd1906b1"
      },
      "execution_count": null,
      "outputs": [
        {
          "output_type": "display_data",
          "data": {
            "text/plain": [
              "<Figure size 960x640 with 1 Axes>"
            ],
            "image/png": "[encoded data removed]"
          },
          "metadata": {
            "needs_background": "light"
          }
        }
      ]
    },
    {
      "cell_type": "code",
      "source": [
        "#length of word\n",
        "sns.displot(error_data['word_length'], binwidth = 1, kde = True)\n",
        "\n",
        "plt.show()"
      ],
      "metadata": {
        "colab": {
          "base_uri": "https://localhost:8080/",
          "height": 369
        },
        "id": "AcRZXC1qW2GF",
        "outputId": "23cc36a8-a625-4148-ca83-ba8c0a568747"
      },
      "execution_count": null,
      "outputs": [
        {
          "output_type": "display_data",
          "data": {
            "text/plain": [
              "<Figure size 360x360 with 1 Axes>"
            ],
            "image/png": "[encoded data removed]"
          },
          "metadata": {
            "needs_background": "light"
          }
        }
      ]
    },
    {
      "cell_type": "code",
      "source": [
        "sns.heatmap(error_data.corr(), annot = True)"
      ],
      "metadata": {
        "colab": {
          "base_uri": "https://localhost:8080/",
          "height": 288
        },
        "id": "dXSxGFyWYHtP",
        "outputId": "a943e16f-c7ee-4144-ceb5-3903d9c0c788"
      },
      "execution_count": null,
      "outputs": [
        {
          "output_type": "execute_result",
          "data": {
            "text/plain": [
              "<matplotlib.axes._subplots.AxesSubplot at 0x7fa6076d64d0>"
            ]
          },
          "metadata": {},
          "execution_count": 13
        },
        {
          "output_type": "display_data",
          "data": {
            "text/plain": [
              "<Figure size 432x288 with 2 Axes>"
            ],
            "image/png": "[encoded data removed]"
          },
          "metadata": {
            "needs_background": "light"
          }
        }
      ]
    },
    {
      "cell_type": "code",
      "source": [
        "a = error_data['true_word'].value_counts().index.tolist()"
      ],
      "metadata": {
        "id": "2Z4xrWmjGmKH"
      },
      "execution_count": 19,
      "outputs": []
    },
    {
      "cell_type": "code",
      "source": [
        "import seaborn as sns\n",
        "from matplotlib.pyplot import figure\n",
        "figure(figsize=(18, 16), dpi=80)\n",
        "sns.set_theme(style=\"whitegrid\")\n",
        "ax = sns.barplot(x=a[1:25], y=error_data['true_word'].value_counts()[1:25])"
      ],
      "metadata": {
        "id": "XbQJFPJJEWic",
        "outputId": "e618edab-ed39-4315-edd3-d721dee63aad",
        "colab": {
          "base_uri": "https://localhost:8080/",
          "height": 1000
        }
      },
      "execution_count": 26,
      "outputs": [
        {
          "output_type": "display_data",
          "data": {
            "text/plain": [
              "<Figure size 1440x1280 with 1 Axes>"
            ],
            "image/png": "[encoded data removed]"
          },
          "metadata": {}
        }
      ]
    },
    {
      "cell_type": "code",
      "source": [
        "error_data[\"pairs\"] = error_data[\"error_letter\"].astype(str) + \">\" + error_data[\"true_letter\"].astype(str)"
      ],
      "metadata": {
        "id": "z7MiWTwx7rMP"
      },
      "execution_count": 28,
      "outputs": []
    },
    {
      "cell_type": "code",
      "source": [
        "error_data.head()"
      ],
      "metadata": {
        "colab": {
          "base_uri": "https://localhost:8080/",
          "height": 337
        },
        "id": "eD1P4cOqWYhE",
        "outputId": "258c8be2-1adc-4de9-fc78-d270ba14351c"
      },
      "execution_count": 29,
      "outputs": [
        {
          "output_type": "execute_result",
          "data": {
            "text/plain": [
              "                                       transcription  \\\n",
              "0  но вряд ли кто обменяет этот момент прозрение ...   \n",
              "1  но вряд ли кто обменяет этот момент прозрение ...   \n",
              "2  но вряд ли кто обменяет этот момент прозрение ...   \n",
              "3  но вряд ли кто обменяет этот момент прозрение ...   \n",
              "4  но вряд ли кто обменяет этот момент прозрение ...   \n",
              "\n",
              "                                                text error_type  error_word  \\\n",
              "0  но вряд ли кто обменяет этот момент прозрения ...   Replaced   прозрение   \n",
              "1  но вряд ли кто обменяет этот момент прозрения ...   Replaced    озарение   \n",
              "2  но вряд ли кто обменяет этот момент прозрения ...    Deleted          то   \n",
              "3  но вряд ли кто обменяет этот момент прозрения ...    Deleted          то   \n",
              "4  но вряд ли кто обменяет этот момент прозрения ...    Deleted           _   \n",
              "\n",
              "    true_word error_letter true_letter  word_length pairs  \n",
              "0   прозрения            е           я            9   е>я  \n",
              "1    озарения            е           я            8   е>я  \n",
              "2          то            т           т            2   т>т  \n",
              "3          то            о           т            2   о>т  \n",
              "4          то                        т            2    >т  "
            ],
            "text/html": [
              "\n",
              "  <div id=\"df-638a9339-09c7-4bbb-8ecf-94c555c33ad1\">\n",
              "    <div class=\"colab-df-container\">\n",
              "      <div>\n",
              "<style scoped>\n",
              "    .dataframe tbody tr th:only-of-type {\n",
              "        vertical-align: middle;\n",
              "    }\n",
              "\n",
              "    .dataframe tbody tr th {\n",
              "        vertical-align: top;\n",
              "    }\n",
              "\n",
              "    .dataframe thead th {\n",
              "        text-align: right;\n",
              "    }\n",
              "</style>\n",
              "<table border=\"1\" class=\"dataframe\">\n",
              "  <thead>\n",
              "    <tr style=\"text-align: right;\">\n",
              "      <th></th>\n",
              "      <th>transcription</th>\n",
              "      <th>text</th>\n",
              "      <th>error_type</th>\n",
              "      <th>error_word</th>\n",
              "      <th>true_word</th>\n",
              "      <th>error_letter</th>\n",
              "      <th>true_letter</th>\n",
              "      <th>word_length</th>\n",
              "      <th>pairs</th>\n",
              "    </tr>\n",
              "  </thead>\n",
              "  <tbody>\n",
              "    <tr>\n",
              "      <th>0</th>\n",
              "      <td>но вряд ли кто обменяет этот момент прозрение ...</td>\n",
              "      <td>но вряд ли кто обменяет этот момент прозрения ...</td>\n",
              "      <td>Replaced</td>\n",
              "      <td>прозрение</td>\n",
              "      <td>прозрения</td>\n",
              "      <td>е</td>\n",
              "      <td>я</td>\n",
              "      <td>9</td>\n",
              "      <td>е&gt;я</td>\n",
              "    </tr>\n",
              "    <tr>\n",
              "      <th>1</th>\n",
              "      <td>но вряд ли кто обменяет этот момент прозрение ...</td>\n",
              "      <td>но вряд ли кто обменяет этот момент прозрения ...</td>\n",
              "      <td>Replaced</td>\n",
              "      <td>озарение</td>\n",
              "      <td>озарения</td>\n",
              "      <td>е</td>\n",
              "      <td>я</td>\n",
              "      <td>8</td>\n",
              "      <td>е&gt;я</td>\n",
              "    </tr>\n",
              "    <tr>\n",
              "      <th>2</th>\n",
              "      <td>но вряд ли кто обменяет этот момент прозрение ...</td>\n",
              "      <td>но вряд ли кто обменяет этот момент прозрения ...</td>\n",
              "      <td>Deleted</td>\n",
              "      <td>то</td>\n",
              "      <td>то</td>\n",
              "      <td>т</td>\n",
              "      <td>т</td>\n",
              "      <td>2</td>\n",
              "      <td>т&gt;т</td>\n",
              "    </tr>\n",
              "    <tr>\n",
              "      <th>3</th>\n",
              "      <td>но вряд ли кто обменяет этот момент прозрение ...</td>\n",
              "      <td>но вряд ли кто обменяет этот момент прозрения ...</td>\n",
              "      <td>Deleted</td>\n",
              "      <td>то</td>\n",
              "      <td>то</td>\n",
              "      <td>о</td>\n",
              "      <td>т</td>\n",
              "      <td>2</td>\n",
              "      <td>о&gt;т</td>\n",
              "    </tr>\n",
              "    <tr>\n",
              "      <th>4</th>\n",
              "      <td>но вряд ли кто обменяет этот момент прозрение ...</td>\n",
              "      <td>но вряд ли кто обменяет этот момент прозрения ...</td>\n",
              "      <td>Deleted</td>\n",
              "      <td>_</td>\n",
              "      <td>то</td>\n",
              "      <td></td>\n",
              "      <td>т</td>\n",
              "      <td>2</td>\n",
              "      <td>&gt;т</td>\n",
              "    </tr>\n",
              "  </tbody>\n",
              "</table>\n",
              "</div>\n",
              "      <button class=\"colab-df-convert\" onclick=\"convertToInteractive('df-638a9339-09c7-4bbb-8ecf-94c555c33ad1')\"\n",
              "              title=\"Convert this dataframe to an interactive table.\"\n",
              "              style=\"display:none;\">\n",
              "        \n",
              "  <svg xmlns=\"http://www.w3.org/2000/svg\" height=\"24px\"viewBox=\"0 0 24 24\"\n",
              "       width=\"24px\">\n",
              "    <path d=\"M0 0h24v24H0V0z\" fill=\"none\"/>\n",
              "    <path d=\"M18.56 5.44l.94 2.06.94-2.06 2.06-.94-2.06-.94-.94-2.06-.94 2.06-2.06.94zm-11 1L8.5 8.5l.94-2.06 2.06-.94-2.06-.94L8.5 2.5l-.94 2.06-2.06.94zm10 10l.94 2.06.94-2.06 2.06-.94-2.06-.94-.94-2.06-.94 2.06-2.06.94z\"/><path d=\"M17.41 7.96l-1.37-1.37c-.4-.4-.92-.59-1.43-.59-.52 0-1.04.2-1.43.59L10.3 9.45l-7.72 7.72c-.78.78-.78 2.05 0 2.83L4 21.41c.39.39.9.59 1.41.59.51 0 1.02-.2 1.41-.59l7.78-7.78 2.81-2.81c.8-.78.8-2.07 0-2.86zM5.41 20L4 18.59l7.72-7.72 1.47 1.35L5.41 20z\"/>\n",
              "  </svg>\n",
              "      </button>\n",
              "      \n",
              "  <style>\n",
              "    .colab-df-container {\n",
              "      display:flex;\n",
              "      flex-wrap:wrap;\n",
              "      gap: 12px;\n",
              "    }\n",
              "\n",
              "    .colab-df-convert {\n",
              "      background-color: #E8F0FE;\n",
              "      border: none;\n",
              "      border-radius: 50%;\n",
              "      cursor: pointer;\n",
              "      display: none;\n",
              "      fill: #1967D2;\n",
              "      height: 32px;\n",
              "      padding: 0 0 0 0;\n",
              "      width: 32px;\n",
              "    }\n",
              "\n",
              "    .colab-df-convert:hover {\n",
              "      background-color: #E2EBFA;\n",
              "      box-shadow: 0px 1px 2px rgba(60, 64, 67, 0.3), 0px 1px 3px 1px rgba(60, 64, 67, 0.15);\n",
              "      fill: #174EA6;\n",
              "    }\n",
              "\n",
              "    [theme=dark] .colab-df-convert {\n",
              "      background-color: #3B4455;\n",
              "      fill: #D2E3FC;\n",
              "    }\n",
              "\n",
              "    [theme=dark] .colab-df-convert:hover {\n",
              "      background-color: #434B5C;\n",
              "      box-shadow: 0px 1px 3px 1px rgba(0, 0, 0, 0.15);\n",
              "      filter: drop-shadow(0px 1px 2px rgba(0, 0, 0, 0.3));\n",
              "      fill: #FFFFFF;\n",
              "    }\n",
              "  </style>\n",
              "\n",
              "      <script>\n",
              "        const buttonEl =\n",
              "          document.querySelector('#df-638a9339-09c7-4bbb-8ecf-94c555c33ad1 button.colab-df-convert');\n",
              "        buttonEl.style.display =\n",
              "          google.colab.kernel.accessAllowed ? 'block' : 'none';\n",
              "\n",
              "        async function convertToInteractive(key) {\n",
              "          const element = document.querySelector('#df-638a9339-09c7-4bbb-8ecf-94c555c33ad1');\n",
              "          const dataTable =\n",
              "            await google.colab.kernel.invokeFunction('convertToInteractive',\n",
              "                                                     [key], {});\n",
              "          if (!dataTable) return;\n",
              "\n",
              "          const docLinkHtml = 'Like what you see? Visit the ' +\n",
              "            '<a target=\"_blank\" href=https://colab.research.google.com/notebooks/data_table.ipynb>data table notebook</a>'\n",
              "            + ' to learn more about interactive tables.';\n",
              "          element.innerHTML = '';\n",
              "          dataTable['output_type'] = 'display_data';\n",
              "          await google.colab.output.renderOutput(dataTable, element);\n",
              "          const docLink = document.createElement('div');\n",
              "          docLink.innerHTML = docLinkHtml;\n",
              "          element.appendChild(docLink);\n",
              "        }\n",
              "      </script>\n",
              "    </div>\n",
              "  </div>\n",
              "  "
            ]
          },
          "metadata": {},
          "execution_count": 29
        }
      ]
    },
    {
      "cell_type": "code",
      "source": [
        "import seaborn as sns\n",
        "from matplotlib.pyplot import figure\n",
        "a = error_data['pairs'].value_counts().index.tolist()\n",
        "figure(figsize=(18, 16), dpi=80)\n",
        "sns.set_theme(style=\"whitegrid\")\n",
        "ax = sns.barplot(x=a[1:25], y=error_data['pairs'].value_counts()[1:25])"
      ],
      "metadata": {
        "colab": {
          "base_uri": "https://localhost:8080/",
          "height": 1000
        },
        "id": "5sCuj_HzXmv0",
        "outputId": "c9dc3e0b-bb4b-49c0-d54d-bd1297abd120"
      },
      "execution_count": 30,
      "outputs": [
        {
          "output_type": "display_data",
          "data": {
            "text/plain": [
              "<Figure size 1440x1280 with 1 Axes>"
            ],
            "image/png": "[encoded data removed]"
          },
          "metadata": {}
        }
      ]
    },
    {
      "cell_type": "code",
      "source": [
        "corr = error_data.corr()"
      ],
      "metadata": {
        "id": "ggkwJRUNYHs-"
      },
      "execution_count": null,
      "outputs": []
    },
    {
      "cell_type": "code",
      "source": [
        "plt.figure(figsize=(20, 8), dpi=100)\n",
        "\n",
        "sns.heatmap(corr, square=True, linewidths=0.1, annot=True)"
      ],
      "metadata": {
        "colab": {
          "base_uri": "https://localhost:8080/",
          "height": 688
        },
        "id": "2Q77rJSUaxXc",
        "outputId": "428ef855-0fd7-492b-9c69-916767e0c285"
      },
      "execution_count": null,
      "outputs": [
        {
          "output_type": "execute_result",
          "data": {
            "text/plain": [
              "<matplotlib.axes._subplots.AxesSubplot at 0x7fa604dc8c90>"
            ]
          },
          "metadata": {},
          "execution_count": 25
        },
        {
          "output_type": "display_data",
          "data": {
            "text/plain": [
              "<Figure size 2000x800 with 2 Axes>"
            ],
            "image/png": "[encoded data removed]"
          },
          "metadata": {
            "needs_background": "light"
          }
        }
      ]
    },
    {
      "cell_type": "code",
      "source": [
        ""
      ],
      "metadata": {
        "id": "mJck1wCoa7Xs"
      },
      "execution_count": null,
      "outputs": []
    }
  ]
}